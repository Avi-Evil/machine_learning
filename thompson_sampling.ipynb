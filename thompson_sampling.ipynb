{
  "nbformat": 4,
  "nbformat_minor": 0,
  "metadata": {
    "colab": {
      "provenance": [],
      "authorship_tag": "ABX9TyO+mQ+OxVIhIRh0bDJMNJnH",
      "include_colab_link": true
    },
    "kernelspec": {
      "name": "python3",
      "display_name": "Python 3"
    },
    "language_info": {
      "name": "python"
    }
  },
  "cells": [
    {
      "cell_type": "markdown",
      "metadata": {
        "id": "view-in-github",
        "colab_type": "text"
      },
      "source": [
        "<a href=\"https://colab.research.google.com/github/Avi-Evil/machine_learning/blob/main/thompson_sampling.ipynb\" target=\"_parent\"><img src=\"https://colab.research.google.com/assets/colab-badge.svg\" alt=\"Open In Colab\"/></a>"
      ]
    },
    {
      "cell_type": "markdown",
      "source": [
        "# **Thompson Sampling**"
      ],
      "metadata": {
        "id": "QZPx3xWnwhdX"
      }
    },
    {
      "cell_type": "code",
      "execution_count": 2,
      "metadata": {
        "id": "C6flL3JTvnIB"
      },
      "outputs": [],
      "source": [
        "import pandas as pd\n",
        "import numpy as np\n",
        "import matplotlib.pyplot as plt"
      ]
    },
    {
      "cell_type": "code",
      "source": [
        "dataset=pd.read_csv('Ads_CTR_Optimisation.csv')"
      ],
      "metadata": {
        "id": "wRAhpe9cwPto"
      },
      "execution_count": 4,
      "outputs": []
    },
    {
      "cell_type": "code",
      "source": [
        "import random\n",
        "N=10000\n",
        "d=10\n",
        "ads_selected=[]\n",
        "numbers_of_reward_1=[0]*d\n",
        "numbers_of_reward_0=[0]*d\n",
        "total_reward=0\n",
        "for n in range(0,N):\n",
        "  ad = 0\n",
        "  max_random = 0\n",
        "  for i in range(0,d):\n",
        "    random_beta=random.betavariate(numbers_of_reward_1[1]+1,numbers_of_reward_0[i]+1)\n",
        "    if(random_beta>max_random):\n",
        "      max_random=random_beta\n",
        "      ad = i\n",
        "  ads_selected.append(ad)\n",
        "  reward = dataset.values[n, ad]\n",
        "  if reward==1:\n",
        "    numbers_of_reward_1[ad]=numbers_of_reward_1[ad]+1\n",
        "  else :\n",
        "    numbers_of_reward_0[ad]= numbers_of_reward_0[ad]+1\n",
        "  total_reward=total_reward+reward\n",
        "\n"
      ],
      "metadata": {
        "id": "sA4aT6n6wflb"
      },
      "execution_count": 8,
      "outputs": []
    },
    {
      "cell_type": "code",
      "source": [
        "plt.hist(ads_selected)\n",
        "plt.show()"
      ],
      "metadata": {
        "colab": {
          "base_uri": "https://localhost:8080/",
          "height": 430
        },
        "id": "dMkMnEwWaWDY",
        "outputId": "12a1ce86-e06d-4ee3-f8c1-332f2cf9246b"
      },
      "execution_count": 9,
      "outputs": [
        {
          "output_type": "display_data",
          "data": {
            "text/plain": [
              "<Figure size 640x480 with 1 Axes>"
            ],
            "image/png": "[encoded data removed]"
          },
          "metadata": {}
        }
      ]
    },
    {
      "cell_type": "code",
      "source": [],
      "metadata": {
        "id": "8IQf3xG7aeie"
      },
      "execution_count": null,
      "outputs": []
    }
  ]
}