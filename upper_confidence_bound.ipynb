{
  "nbformat": 4,
  "nbformat_minor": 0,
  "metadata": {
    "colab": {
      "provenance": [],
      "mount_file_id": "1-fO9L2z-sKTS1WrBDkd3D1Hra7MAy5-p",
      "authorship_tag": "ABX9TyNvQ1ahV4QbGXVh9AZTBdv+",
      "include_colab_link": true
    },
    "kernelspec": {
      "name": "python3",
      "display_name": "Python 3"
    },
    "language_info": {
      "name": "python"
    }
  },
  "cells": [
    {
      "cell_type": "markdown",
      "metadata": {
        "id": "view-in-github",
        "colab_type": "text"
      },
      "source": [
        "<a href=\"https://colab.research.google.com/github/Avi-Evil/machine_learning/blob/main/upper_confidence_bound.ipynb\" target=\"_parent\"><img src=\"https://colab.research.google.com/assets/colab-badge.svg\" alt=\"Open In Colab\"/></a>"
      ]
    },
    {
      "cell_type": "markdown",
      "source": [
        "# Upper Confidence Bound(UCB)"
      ],
      "metadata": {
        "id": "cG5o-no__5dL"
      }
    },
    {
      "cell_type": "markdown",
      "source": [
        "Importing the libraries"
      ],
      "metadata": {
        "id": "GQxXnRdZACit"
      }
    },
    {
      "cell_type": "code",
      "execution_count": 17,
      "metadata": {
        "id": "e-t1N02Y9fqU"
      },
      "outputs": [],
      "source": [
        "import pandas as pd\n",
        "import numpy as np\n",
        "import matplotlib.pyplot as plt"
      ]
    },
    {
      "cell_type": "markdown",
      "source": [
        "Importing the dataset"
      ],
      "metadata": {
        "id": "ydHIceRzAGnB"
      }
    },
    {
      "cell_type": "code",
      "source": [
        "dataset=pd.read_csv('Ads_CTR_Optimisation.csv')"
      ],
      "metadata": {
        "id": "caV0_LhpALbR"
      },
      "execution_count": 18,
      "outputs": []
    },
    {
      "cell_type": "markdown",
      "source": [
        "Implementing UCB"
      ],
      "metadata": {
        "id": "7Y1wsZ7xDK45"
      }
    },
    {
      "cell_type": "code",
      "source": [
        "import math\n",
        "N=1000\n",
        "d=10\n",
        "ads_selected=[]\n",
        "numbers_of_selections=[0]*d\n",
        "sums_of_rewards=[0]*d\n",
        "total_reward=0\n",
        "for n in range(0,N):\n",
        "  ad = 0\n",
        "  max_upper_bound=0\n",
        "  for i in range(0,d):\n",
        "    if (numbers_of_selections[i]>0):\n",
        "      average_reward=sums_of_rewards[i]/numbers_of_selections[i]\n",
        "      delta_i= math.sqrt(3/2* math.log(n+1)/numbers_of_selections[i])\n",
        "      upper_bound=average_reward + delta_i\n",
        "    else:\n",
        "      upper_bound=1e400\n",
        "    if(upper_bound>max_upper_bound):\n",
        "      max_upper_bound=upper_bound\n",
        "      ad=i\n",
        "  ads_selected.append(ad)\n",
        "  numbers_of_selections[ad]=numbers_of_selections[ad]+1\n",
        "  reward= dataset.values[n, ad]\n",
        "  sums_of_rewards[ad] = sums_of_rewards[ad] + reward\n",
        "  total_reward=total_reward+reward"
      ],
      "metadata": {
        "id": "gxI0-LtWDFsX"
      },
      "execution_count": 25,
      "outputs": []
    },
    {
      "cell_type": "markdown",
      "source": [
        "Visualising the results"
      ],
      "metadata": {
        "id": "WOvDE0fMic86"
      }
    },
    {
      "cell_type": "code",
      "source": [
        "plt.hist(ads_selected)\n",
        "plt.title('Histogram of ads selection')\n",
        "plt.xlabel('Ads')\n",
        "plt.ylabel('Number of times each ad was selected')\n",
        "plt.show()"
      ],
      "metadata": {
        "colab": {
          "base_uri": "https://localhost:8080/",
          "height": 472
        },
        "id": "k4u0QECbiVcA",
        "outputId": "0c29a3c1-7272-4bd1-b359-6d31f6611890"
      },
      "execution_count": 26,
      "outputs": [
        {
          "output_type": "display_data",
          "data": {
            "text/plain": [
              "<Figure size 640x480 with 1 Axes>"
            ],
            "image/png": "[encoded data removed]"
          },
          "metadata": {}
        }
      ]
    },
    {
      "cell_type": "code",
      "source": [],
      "metadata": {
        "id": "FpiiHqInjEce"
      },
      "execution_count": 20,
      "outputs": []
    }
  ]
}